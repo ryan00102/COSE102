{
 "cells": [
  {
   "cell_type": "markdown",
   "metadata": {
    "toc": true
   },
   "source": [
    "<h1>Chapter2<span class=\"tocSkip\"></span></h1>\n",
    "<div class=\"toc\"><ul class=\"toc-item\"><li><span><a href=\"#basic-print\" data-toc-modified-id=\"basic-print-1\"><span class=\"toc-item-num\">1&nbsp;&nbsp;</span>basic print</a></span></li><li><span><a href=\"#변수(variable)\" data-toc-modified-id=\"변수(variable)-2\"><span class=\"toc-item-num\">2&nbsp;&nbsp;</span>변수(variable)</a></span><ul class=\"toc-item\"><li><span><a href=\"#변수-선언-및-초기화(Variable-Definition-and-Initialization)\" data-toc-modified-id=\"변수-선언-및-초기화(Variable-Definition-and-Initialization)-2.1\"><span class=\"toc-item-num\">2.1&nbsp;&nbsp;</span>변수 선언 및 초기화(Variable Definition and Initialization)</a></span></li><li><span><a href=\"#변수-할당(Assignment)\" data-toc-modified-id=\"변수-할당(Assignment)-2.2\"><span class=\"toc-item-num\">2.2&nbsp;&nbsp;</span>변수 할당(Assignment)</a></span></li><li><span><a href=\"#할당과-동등성-비교의-차이-(Difference-Between-Assignment-and-Equality)\" data-toc-modified-id=\"할당과-동등성-비교의-차이-(Difference-Between-Assignment-and-Equality)-2.3\"><span class=\"toc-item-num\">2.3&nbsp;&nbsp;</span>할당과 동등성 비교의 차이 (Difference Between Assignment and Equality)</a></span></li><li><span><a href=\"#variable-naming-role\" data-toc-modified-id=\"variable-naming-role-2.4\"><span class=\"toc-item-num\">2.4&nbsp;&nbsp;</span>variable naming role</a></span></li><li><span><a href=\"#variable-naming-error-case\" data-toc-modified-id=\"variable-naming-error-case-2.5\"><span class=\"toc-item-num\">2.5&nbsp;&nbsp;</span>variable naming error case</a></span></li></ul></li><li><span><a href=\"#자료형(data-type)\" data-toc-modified-id=\"자료형(data-type)-3\"><span class=\"toc-item-num\">3&nbsp;&nbsp;</span>자료형(data type)</a></span></li><li><span><a href=\"#기본-연산(basic-operation)\" data-toc-modified-id=\"기본-연산(basic-operation)-4\"><span class=\"toc-item-num\">4&nbsp;&nbsp;</span>기본 연산(basic operation)</a></span><ul class=\"toc-item\"><li><span><a href=\"#정수와-부동소수점-수의-연산-(Integer-and-Floating-Point-Operations)\" data-toc-modified-id=\"정수와-부동소수점-수의-연산-(Integer-and-Floating-Point-Operations)-4.1\"><span class=\"toc-item-num\">4.1&nbsp;&nbsp;</span>정수와 부동소수점 수의 연산 (Integer and Floating-Point Operations)</a></span></li><li><span><a href=\"#부동소수점-수의-정밀도와-반올림-처리-(Floating-Point-Precision-and-Rounding)\" data-toc-modified-id=\"부동소수점-수의-정밀도와-반올림-처리-(Floating-Point-Precision-and-Rounding)-4.2\"><span class=\"toc-item-num\">4.2&nbsp;&nbsp;</span>부동소수점 수의 정밀도와 반올림 처리 (Floating-Point Precision and Rounding)</a></span></li><li><span><a href=\"#변수-간-값-교환-(Swapping-Values-Between-Variables)\" data-toc-modified-id=\"변수-간-값-교환-(Swapping-Values-Between-Variables)-4.3\"><span class=\"toc-item-num\">4.3&nbsp;&nbsp;</span>변수 간 값 교환 (Swapping Values Between Variables)</a></span><ul class=\"toc-item\"><li><span><a href=\"#임시-변수-활용-컨셉\" data-toc-modified-id=\"임시-변수-활용-컨셉-4.3.1\"><span class=\"toc-item-num\">4.3.1&nbsp;&nbsp;</span>임시 변수 활용 컨셉</a></span></li><li><span><a href=\"#다중-할당(multiple-assignment)-컨셉\" data-toc-modified-id=\"다중-할당(multiple-assignment)-컨셉-4.3.2\"><span class=\"toc-item-num\">4.3.2&nbsp;&nbsp;</span>다중 할당(multiple assignment) 컨셉</a></span></li></ul></li></ul></li><li><span><a href=\"#자료형-변환(data-conversion)\" data-toc-modified-id=\"자료형-변환(data-conversion)-5\"><span class=\"toc-item-num\">5&nbsp;&nbsp;</span>자료형 변환(data conversion)</a></span><ul class=\"toc-item\"><li><span><a href=\"#float-or-int--<-->-string(or-char)\" data-toc-modified-id=\"float-or-int--<-->-string(or-char)-5.1\"><span class=\"toc-item-num\">5.1&nbsp;&nbsp;</span>float or int  &lt;--&gt; string(or char)</a></span></li><li><span><a href=\"#check-data-type\" data-toc-modified-id=\"check-data-type-5.2\"><span class=\"toc-item-num\">5.2&nbsp;&nbsp;</span>check data type</a></span></li><li><span><a href=\"#int--->-float\" data-toc-modified-id=\"int--->-float-5.3\"><span class=\"toc-item-num\">5.3&nbsp;&nbsp;</span>int --&gt; float</a></span></li><li><span><a href=\"#float--->-int\" data-toc-modified-id=\"float--->-int-5.4\"><span class=\"toc-item-num\">5.4&nbsp;&nbsp;</span>float --&gt; int</a></span></li><li><span><a href=\"#dynamic-casting\" data-toc-modified-id=\"dynamic-casting-5.5\"><span class=\"toc-item-num\">5.5&nbsp;&nbsp;</span>dynamic casting</a></span></li><li><span><a href=\"#문자열과-숫자의-결합-(String-and-Number-Concatenation)---명시적(explicit)-형변환이-필요한-치명적-이유\" data-toc-modified-id=\"문자열과-숫자의-결합-(String-and-Number-Concatenation)---명시적(explicit)-형변환이-필요한-치명적-이유-5.6\"><span class=\"toc-item-num\">5.6&nbsp;&nbsp;</span>문자열과 숫자의 결합 (String and Number Concatenation) - 명시적(explicit) 형변환이 필요한 치명적 이유</a></span></li></ul></li><li><span><a href=\"#example(coding-test)\" data-toc-modified-id=\"example(coding-test)-6\"><span class=\"toc-item-num\">6&nbsp;&nbsp;</span>example(coding test)</a></span></li></ul></div>"
   ]
  },
  {
   "cell_type": "markdown",
   "metadata": {},
   "source": [
    "# basic print"
   ]
  },
  {
   "cell_type": "markdown",
   "metadata": {},
   "source": [
    "    "
   ]
  },
  {
   "cell_type": "code",
   "execution_count": 1,
   "metadata": {
    "ExecuteTime": {
     "end_time": "2021-08-30T22:38:43.934062Z",
     "start_time": "2021-08-30T22:38:43.926524Z"
    }
   },
   "outputs": [
    {
     "name": "stdout",
     "output_type": "stream",
     "text": [
      "hello world\n"
     ]
    }
   ],
   "source": [
    "print(\"hello world\")"
   ]
  },
  {
   "cell_type": "code",
   "execution_count": 1,
   "metadata": {},
   "outputs": [],
   "source": [
    "# jupyter notebook에서 화면을 출력하는 또다른 방법은?"
   ]
  },
  {
   "cell_type": "markdown",
   "metadata": {},
   "source": [
    "# 변수(variable)"
   ]
  },
  {
   "cell_type": "markdown",
   "metadata": {},
   "source": [
    "## 변수 선언 및 초기화(Variable Definition and Initialization)\n",
    "    * 초기화(Initialization)란? 최초로 값을 할당(Assignment)하는 과정"
   ]
  },
  {
   "cell_type": "code",
   "execution_count": null,
   "metadata": {
    "ExecuteTime": {
     "end_time": "2021-08-30T22:34:45.554002Z",
     "start_time": "2021-08-30T22:34:45.544915Z"
    }
   },
   "outputs": [],
   "source": [
    "# 변수 'name'을 선언하고, 자기 이름이나 닉네임으로 초기화(=할당)"
   ]
  },
  {
   "cell_type": "code",
   "execution_count": null,
   "metadata": {},
   "outputs": [],
   "source": [
    "# 'student_id' 변수에 자기 학번을 할당 "
   ]
  },
  {
   "cell_type": "markdown",
   "metadata": {},
   "source": [
    "## 변수 할당(Assignment)"
   ]
  },
  {
   "cell_type": "code",
   "execution_count": null,
   "metadata": {},
   "outputs": [],
   "source": [
    "# 'student_id' 변수에 다른 학번을 할당"
   ]
  },
  {
   "cell_type": "markdown",
   "metadata": {},
   "source": [
    "## 할당과 동등성 비교의 차이 (Difference Between Assignment and Equality)\n",
    "    할당(= or ←) vs 동등성 비교(==)"
   ]
  },
  {
   "cell_type": "code",
   "execution_count": null,
   "metadata": {},
   "outputs": [],
   "source": [
    "#할당: a ← 3\n",
    "#동등성 비교: a와 3이 같은가?"
   ]
  },
  {
   "cell_type": "markdown",
   "metadata": {},
   "source": [
    "## variable naming role\n",
    "https://peps.python.org/pep-0008/"
   ]
  },
  {
   "cell_type": "code",
   "execution_count": null,
   "metadata": {
    "ExecuteTime": {
     "end_time": "2021-08-30T22:35:21.132546Z",
     "start_time": "2021-08-30T22:35:21.130046Z"
    }
   },
   "outputs": [],
   "source": [
    "#PEP8"
   ]
  },
  {
   "cell_type": "markdown",
   "metadata": {},
   "source": [
    "## variable naming error case\n"
   ]
  },
  {
   "cell_type": "code",
   "execution_count": null,
   "metadata": {
    "ExecuteTime": {
     "end_time": "2021-10-18T12:27:56.036684Z",
     "start_time": "2021-10-18T12:27:56.032586Z"
    },
    "hide_input": false,
    "scrolled": true
   },
   "outputs": [],
   "source": [
    "#특별한 예약어(keyword): if, else, etc"
   ]
  },
  {
   "cell_type": "markdown",
   "metadata": {},
   "source": [
    "# 자료형(data type)"
   ]
  },
  {
   "cell_type": "code",
   "execution_count": null,
   "metadata": {
    "ExecuteTime": {
     "end_time": "2021-10-18T12:28:12.738054Z",
     "start_time": "2021-10-18T12:28:12.735505Z"
    }
   },
   "outputs": [],
   "source": [
    "#integer(=정수)\n",
    "#float(=실수)\n",
    "#string(=문자열)\n",
    "#boolean(=불리언)"
   ]
  },
  {
   "cell_type": "markdown",
   "metadata": {},
   "source": [
    "# 기본 연산(basic operation)"
   ]
  },
  {
   "cell_type": "code",
   "execution_count": null,
   "metadata": {
    "ExecuteTime": {
     "end_time": "2021-10-18T12:28:16.208114Z",
     "start_time": "2021-10-18T12:28:16.199983Z"
    }
   },
   "outputs": [],
   "source": [
    "a = 5\n",
    "b = 3\n",
    "\n",
    "#산술 연산\n",
    "#+,-,*,**, /,//,%,\n",
    "#a+=1\n",
    "#a-=1"
   ]
  },
  {
   "cell_type": "markdown",
   "metadata": {},
   "source": [
    "##  정수와 부동소수점 수의 연산 (Integer and Floating-Point Operations)"
   ]
  },
  {
   "cell_type": "code",
   "execution_count": null,
   "metadata": {},
   "outputs": [],
   "source": [
    "# 정수(int)와 부동소수점(float) 수의 덧셈"
   ]
  },
  {
   "cell_type": "markdown",
   "metadata": {},
   "source": [
    "##  부동소수점 수의 정밀도와 반올림 처리 (Floating-Point Precision and Rounding)"
   ]
  },
  {
   "cell_type": "code",
   "execution_count": null,
   "metadata": {},
   "outputs": [],
   "source": [
    "# 예상치 못한 결과: 0.30000000000000004\n",
    "# 1자리 표시 (2번째 자리에서 반올림)"
   ]
  },
  {
   "cell_type": "markdown",
   "metadata": {},
   "source": [
    "## 변수 간 값 교환 (Swapping Values Between Variables)"
   ]
  },
  {
   "cell_type": "markdown",
   "metadata": {},
   "source": [
    "### 임시 변수 활용 컨셉"
   ]
  },
  {
   "cell_type": "code",
   "execution_count": 1,
   "metadata": {},
   "outputs": [],
   "source": [
    "a = 3 \n",
    "b = 7"
   ]
  },
  {
   "cell_type": "code",
   "execution_count": null,
   "metadata": {},
   "outputs": [],
   "source": []
  },
  {
   "cell_type": "markdown",
   "metadata": {},
   "source": [
    "### 다중 할당(multiple assignment) 컨셉"
   ]
  },
  {
   "cell_type": "code",
   "execution_count": 1,
   "metadata": {},
   "outputs": [],
   "source": [
    "a = 3 \n",
    "b = 7"
   ]
  },
  {
   "cell_type": "code",
   "execution_count": null,
   "metadata": {},
   "outputs": [],
   "source": []
  },
  {
   "cell_type": "markdown",
   "metadata": {},
   "source": [
    "# 자료형 변환(data conversion)"
   ]
  },
  {
   "cell_type": "markdown",
   "metadata": {},
   "source": [
    "## float or int  <--> string(or char)"
   ]
  },
  {
   "cell_type": "markdown",
   "metadata": {},
   "source": [
    "## check data type"
   ]
  },
  {
   "cell_type": "code",
   "execution_count": 3,
   "metadata": {
    "ExecuteTime": {
     "end_time": "2021-10-18T12:30:03.382419Z",
     "start_time": "2021-10-18T12:30:03.379197Z"
    }
   },
   "outputs": [
    {
     "name": "stdout",
     "output_type": "stream",
     "text": [
      "<class 'int'>\n"
     ]
    }
   ],
   "source": [
    "a = 3  #int 정수\n",
    "print(type(a)) #a 변수에 대한 type 확인 결과를 print를 이용해서 출력"
   ]
  },
  {
   "cell_type": "markdown",
   "metadata": {},
   "source": [
    "## int --> float"
   ]
  },
  {
   "cell_type": "code",
   "execution_count": null,
   "metadata": {
    "ExecuteTime": {
     "end_time": "2021-10-18T12:30:05.395633Z",
     "start_time": "2021-10-18T12:30:05.393023Z"
    }
   },
   "outputs": [],
   "source": []
  },
  {
   "cell_type": "markdown",
   "metadata": {},
   "source": [
    "## float --> int"
   ]
  },
  {
   "cell_type": "code",
   "execution_count": null,
   "metadata": {
    "ExecuteTime": {
     "end_time": "2021-10-18T12:30:09.724977Z",
     "start_time": "2021-10-18T12:30:09.721927Z"
    }
   },
   "outputs": [],
   "source": []
  },
  {
   "cell_type": "markdown",
   "metadata": {},
   "source": [
    "## dynamic casting\n",
    "    *자동적으로 자료형간의 변환(casting)을 통해 오류 없이 정상적 연산이 가능한 컨셉 "
   ]
  },
  {
   "cell_type": "code",
   "execution_count": null,
   "metadata": {
    "ExecuteTime": {
     "end_time": "2021-10-18T12:30:11.551194Z",
     "start_time": "2021-10-18T12:30:11.546648Z"
    }
   },
   "outputs": [],
   "source": []
  },
  {
   "cell_type": "markdown",
   "metadata": {},
   "source": [
    "##  문자열과 숫자의 결합 (String and Number Concatenation) - 명시적(explicit) 형변환이 필요한 치명적 이유"
   ]
  },
  {
   "cell_type": "code",
   "execution_count": null,
   "metadata": {},
   "outputs": [],
   "source": [
    "str_value = '76'\n",
    "int_value = 76"
   ]
  },
  {
   "cell_type": "markdown",
   "metadata": {},
   "source": [
    "# example(coding test)\n",
    "http://oj.rightline.kr/contest/79/problems"
   ]
  },
  {
   "cell_type": "markdown",
   "metadata": {},
   "source": [
    "    0. 코딩 테스트 실습 과제의 제출 기한은 다음주 수요일, 자정 전 23:59:59까지입니다. \n",
    "    이에 따라, 모든 실습 과제를 완료한 학생들은 조기에 퇴근하실 수 있습니다. \n",
    "    과제 리뷰는 매주 목요일, 정규 수업의 두 번째 부분이 끝난 후에 진행될 예정이며, 이 시간에 코딩 테스트 실습 과제도 시작됩니다.\n",
    "    0. The deadline for submitting your coding test lab assignments is set for next Wednesday, by 23:59:59.\n",
    "    Consequently, students who have completed all their lab assignments are permitted to leave early.\n",
    "    Assignment reviews will be conducted every Thursday, following the end of the second part of the regular\n",
    "    class, which is also when the coding test lab assignments will begin.\n",
    "\n",
    "    \n",
    "    1. 도전(challege) 문제는 점수에 영향을 미치지 않습니다만, 도전을 즐기는 여러분의 적극적인 참여를 기대합니다.\n",
    "    1. The challenge problem does not affect your score, but we look forward to active participation \n",
    "    from those who enjoy a challenge. "
   ]
  },
  {
   "cell_type": "code",
   "execution_count": null,
   "metadata": {
    "ExecuteTime": {
     "end_time": "2021-10-18T12:30:26.263156Z",
     "start_time": "2021-10-18T12:30:26.260332Z"
    }
   },
   "outputs": [],
   "source": []
  }
 ],
 "metadata": {
  "colab": {
   "name": "Untitled0.ipynb",
   "provenance": []
  },
  "hide_input": false,
  "kernelspec": {
   "display_name": "Python 3 (ipykernel)",
   "language": "python",
   "name": "python3"
  },
  "language_info": {
   "codemirror_mode": {
    "name": "ipython",
    "version": 3
   },
   "file_extension": ".py",
   "mimetype": "text/x-python",
   "name": "python",
   "nbconvert_exporter": "python",
   "pygments_lexer": "ipython3",
   "version": "3.11.5"
  },
  "latex_envs": {
   "LaTeX_envs_menu_present": true,
   "autoclose": false,
   "autocomplete": true,
   "bibliofile": "biblio.bib",
   "cite_by": "apalike",
   "current_citInitial": 1,
   "eqLabelWithNumbers": true,
   "eqNumInitial": 1,
   "hotkeys": {
    "equation": "Ctrl-E",
    "itemize": "Ctrl-I"
   },
   "labels_anchors": false,
   "latex_user_defs": false,
   "report_style_numbering": false,
   "user_envs_cfg": false
  },
  "toc": {
   "base_numbering": 1,
   "nav_menu": {},
   "number_sections": true,
   "sideBar": false,
   "skip_h1_title": false,
   "title_cell": "Chapter2",
   "title_sidebar": "Contents",
   "toc_cell": true,
   "toc_position": {
    "height": "1169px",
    "left": "23px",
    "top": "110px",
    "width": "224px"
   },
   "toc_section_display": true,
   "toc_window_display": true
  },
  "varInspector": {
   "cols": {
    "lenName": 16,
    "lenType": 16,
    "lenVar": 40
   },
   "kernels_config": {
    "python": {
     "delete_cmd_postfix": "",
     "delete_cmd_prefix": "del ",
     "library": "var_list.py",
     "varRefreshCmd": "print(var_dic_list())"
    },
    "r": {
     "delete_cmd_postfix": ") ",
     "delete_cmd_prefix": "rm(",
     "library": "var_list.r",
     "varRefreshCmd": "cat(var_dic_list()) "
    }
   },
   "types_to_exclude": [
    "module",
    "function",
    "builtin_function_or_method",
    "instance",
    "_Feature"
   ],
   "window_display": false
  }
 },
 "nbformat": 4,
 "nbformat_minor": 1
}
