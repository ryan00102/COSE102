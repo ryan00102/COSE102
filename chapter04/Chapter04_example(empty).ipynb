{
 "cells": [
  {
   "cell_type": "markdown",
   "metadata": {
    "toc": true
   },
   "source": [
    "<h1>Chapter4<span class=\"tocSkip\"></span></h1>\n",
    "<div class=\"toc\"><ul class=\"toc-item\"><li><span><a href=\"#조건문\" data-toc-modified-id=\"조건문-1\"><span class=\"toc-item-num\">1&nbsp;&nbsp;</span>조건문</a></span></li><li><span><a href=\"#비교-연산자\" data-toc-modified-id=\"비교-연산자-2\"><span class=\"toc-item-num\">2&nbsp;&nbsp;</span>비교 연산자</a></span><ul class=\"toc-item\"><li><span><a href=\"#일반적인-비교-연산-(값-기준)\" data-toc-modified-id=\"일반적인-비교-연산-(값-기준)-2.1\"><span class=\"toc-item-num\">2.1&nbsp;&nbsp;</span>일반적인 비교 연산 (값 기준)</a></span></li><li><span><a href=\"#예외적인-비교-연산-(메모리-주소-기준)\" data-toc-modified-id=\"예외적인-비교-연산-(메모리-주소-기준)-2.2\"><span class=\"toc-item-num\">2.2&nbsp;&nbsp;</span>예외적인 비교 연산 (메모리 주소 기준)</a></span></li></ul></li><li><span><a href=\"#논리-조건\" data-toc-modified-id=\"논리-조건-3\"><span class=\"toc-item-num\">3&nbsp;&nbsp;</span>논리 조건</a></span><ul class=\"toc-item\"><li><span><a href=\"#not-vs-!\" data-toc-modified-id=\"not-vs-!-3.1\"><span class=\"toc-item-num\">3.1&nbsp;&nbsp;</span>not vs !</a></span></li></ul></li><li><span><a href=\"#조건문-심화\" data-toc-modified-id=\"조건문-심화-4\"><span class=\"toc-item-num\">4&nbsp;&nbsp;</span>조건문 심화</a></span><ul class=\"toc-item\"><li><span><a href=\"#elif\" data-toc-modified-id=\"elif-4.1\"><span class=\"toc-item-num\">4.1&nbsp;&nbsp;</span>elif</a></span></li><li><span><a href=\"#삼항-연산자\" data-toc-modified-id=\"삼항-연산자-4.2\"><span class=\"toc-item-num\">4.2&nbsp;&nbsp;</span>삼항 연산자</a></span></li><li><span><a href=\"#early-return\" data-toc-modified-id=\"early-return-4.3\"><span class=\"toc-item-num\">4.3&nbsp;&nbsp;</span>early return</a></span></li></ul></li><li><span><a href=\"#example(coding-test)\" data-toc-modified-id=\"example(coding-test)-5\"><span class=\"toc-item-num\">5&nbsp;&nbsp;</span>example(coding test)</a></span></li></ul></div>"
   ]
  },
  {
   "cell_type": "markdown",
   "metadata": {},
   "source": [
    "# 조건문 "
   ]
  },
  {
   "cell_type": "code",
   "execution_count": 17,
   "metadata": {},
   "outputs": [
    {
     "data": {
      "text/plain": [
       "False"
      ]
     },
     "execution_count": 17,
     "metadata": {},
     "output_type": "execute_result"
    }
   ],
   "source": [
    "def solution(car_number, today, card_state, is_registered):\n",
    "    answer = False\n",
    "    if is_registered and card_state == 1:\n",
    "        if car_number % 2 == today % 2:\n",
    "            answer = True\n",
    "        \n",
    "    return answer\n",
    "\n",
    "solution(7777, 23,0,True)"
   ]
  },
  {
   "cell_type": "code",
   "execution_count": 45,
   "metadata": {},
   "outputs": [
    {
     "data": {
      "text/plain": [
       "-1"
      ]
     },
     "execution_count": 45,
     "metadata": {},
     "output_type": "execute_result"
    }
   ],
   "source": [
    "import math\n",
    "def buy_stock(i,b):\n",
    "\treturn i//b\n",
    "def calculate_profit(b,s,q,c,t):#b = buy_price, s = sell_price, q = count, c = 0.0025, t= 0.00015\n",
    "\tn = q * s * (1- t-c)\n",
    "        \n",
    "\tm = q*b * (1 + t)\n",
    "\treturn  n-m\n",
    "\n",
    "def solution(init_amount, buy_price, sell_price):\n",
    "\t#Please fill this blank\n",
    "\tif init_amount < buy_price:\n",
    "\t\treturn -1\n",
    "\tcount= buy_stock(init_amount,buy_price)\n",
    "\tanswer = calculate_profit(buy_price, sell_price, count, 0.0025,0.00015)#c =0.0025, t = 0.00015\n",
    "\tif sell_price >= buy_price*3:\n",
    "\t\tanswer -= (sell_price*count - buy_price*count) * 0.1\n",
    "\t\n",
    "\treturn math.ceil(answer)\n",
    "\n",
    "solution(12000, 100000,105000)"
   ]
  },
  {
   "cell_type": "markdown",
   "metadata": {},
   "source": [
    "# 비교 연산자"
   ]
  },
  {
   "cell_type": "markdown",
   "metadata": {
    "ExecuteTime": {
     "end_time": "2021-10-04T14:41:32.550162Z",
     "start_time": "2021-10-04T14:41:32.546993Z"
    }
   },
   "source": [
    "## 일반적인 비교 연산 (값 기준)"
   ]
  },
  {
   "cell_type": "code",
   "execution_count": 86,
   "metadata": {
    "ExecuteTime": {
     "end_time": "2021-09-23T13:22:00.851293Z",
     "start_time": "2021-09-23T13:22:00.848458Z"
    }
   },
   "outputs": [],
   "source": [
    "#값(value) 기반의 비교 연산 \n",
    "x = 2\n",
    "y = 1"
   ]
  },
  {
   "cell_type": "markdown",
   "metadata": {
    "ExecuteTime": {
     "end_time": "2021-10-04T14:41:32.550162Z",
     "start_time": "2021-10-04T14:41:32.546993Z"
    }
   },
   "source": [
    "## 예외적인 비교 연산 (메모리 주소 기준)"
   ]
  },
  {
   "cell_type": "code",
   "execution_count": 87,
   "metadata": {
    "ExecuteTime": {
     "end_time": "2021-09-23T13:22:00.851293Z",
     "start_time": "2021-09-23T13:22:00.848458Z"
    }
   },
   "outputs": [],
   "source": [
    "#메모리 주소(memeory address) 기반의 비교 연산\n",
    "#Q. is, is not은 어떨때 사용이 될까?"
   ]
  },
  {
   "cell_type": "markdown",
   "metadata": {},
   "source": [
    "# 논리 조건"
   ]
  },
  {
   "cell_type": "code",
   "execution_count": 89,
   "metadata": {
    "ExecuteTime": {
     "end_time": "2021-09-23T13:22:02.723894Z",
     "start_time": "2021-09-23T13:22:02.720863Z"
    }
   },
   "outputs": [],
   "source": [
    "#방지턱 충격이 있으면서, 방지턱 형상이 있는 경우?"
   ]
  },
  {
   "cell_type": "code",
   "execution_count": 90,
   "metadata": {},
   "outputs": [],
   "source": [
    "#1차선이거나 2차선 도로인 경우?"
   ]
  },
  {
   "cell_type": "code",
   "execution_count": 94,
   "metadata": {},
   "outputs": [
    {
     "data": {
      "text/plain": [
       "True"
      ]
     },
     "execution_count": 94,
     "metadata": {},
     "output_type": "execute_result"
    }
   ],
   "source": [
    "#OR: 선행 조건에 따라서 후행 조건이 동작되지 않는 경우\n",
    "lane_1 = True\n",
    "lane_1 or undefined_value #or의 경우, 선행이 True면, 후행을 보지 않음"
   ]
  },
  {
   "cell_type": "code",
   "execution_count": 95,
   "metadata": {},
   "outputs": [],
   "source": [
    "#AND: 선행 조건에 따라서 후행 조건이 동작되지 않는 경우"
   ]
  },
  {
   "cell_type": "markdown",
   "metadata": {},
   "source": [
    "## not vs !"
   ]
  },
  {
   "cell_type": "code",
   "execution_count": null,
   "metadata": {},
   "outputs": [],
   "source": []
  },
  {
   "cell_type": "markdown",
   "metadata": {},
   "source": [
    "# 조건문 심화"
   ]
  },
  {
   "cell_type": "markdown",
   "metadata": {},
   "source": [
    "## elif"
   ]
  },
  {
   "cell_type": "code",
   "execution_count": 67,
   "metadata": {
    "ExecuteTime": {
     "end_time": "2021-08-16T06:02:01.926585Z",
     "start_time": "2021-08-16T06:02:01.923174Z"
    }
   },
   "outputs": [
    {
     "data": {
      "text/plain": [
       "'B'"
      ]
     },
     "execution_count": 67,
     "metadata": {},
     "output_type": "execute_result"
    }
   ],
   "source": [
    "#학점 계산 프로그램: 90점 이상, A, 80점이상은 B, 70점이상은 C, 60점 이상은 D, 60점 미만은 F\n",
    "#worst case(only if)\n",
    "score = 99\n",
    "output_grade = None\n",
    "if score >= 90:\n",
    "    output_grade = \"A\"\n",
    "if score >= 80:\n",
    "    output_grade = \"B\"\n",
    "\n",
    "output_grade "
   ]
  },
  {
   "cell_type": "code",
   "execution_count": 96,
   "metadata": {
    "ExecuteTime": {
     "end_time": "2021-08-16T06:02:01.926585Z",
     "start_time": "2021-08-16T06:02:01.923174Z"
    }
   },
   "outputs": [],
   "source": [
    "#학점 계산 프로그램: 90점 이상, A, 80점이상은 B, 70점이상은 C, 60점 이상은 D, 60점 미만은 F"
   ]
  },
  {
   "cell_type": "code",
   "execution_count": 97,
   "metadata": {},
   "outputs": [],
   "source": [
    "#실무 예시: 도로 정보 타입('SAFETY', 'ROAD', 'CAMERA', 'LANE')에 따라서 타입 정보 출력해보기\n",
    "road_type = 'SAFETY'"
   ]
  },
  {
   "cell_type": "markdown",
   "metadata": {},
   "source": [
    "## 삼항 연산자"
   ]
  },
  {
   "cell_type": "code",
   "execution_count": 98,
   "metadata": {},
   "outputs": [],
   "source": [
    "#개선 버전인지 베이스 버전인지 확인해서 tag를 설정하자\n",
    "is_rev = False #버전 세팅이되면서 값이 할당됨\n",
    "tag = 'new version' if is_rev else 'old version'"
   ]
  },
  {
   "cell_type": "markdown",
   "metadata": {},
   "source": [
    "## early return"
   ]
  },
  {
   "cell_type": "markdown",
   "metadata": {
    "ExecuteTime": {
     "end_time": "2021-08-16T06:02:01.926585Z",
     "start_time": "2021-08-16T06:02:01.923174Z"
    }
   },
   "source": [
    "http://oj.rightline.kr/contest/83/problem/P004"
   ]
  },
  {
   "cell_type": "code",
   "execution_count": null,
   "metadata": {},
   "outputs": [],
   "source": [
    "#conditional hell\n",
    "def solution(car_number, today, card_state, is_registered):\n",
    "    if is_registered:\n",
    "        if card_state == 1:\n",
    "            if '짝수날에 짝수차량':\n",
    "                return True\n",
    "            else:\n",
    "                if '홀수날에 홀수차량':\n",
    "                    return True\n",
    "                else:\n",
    "                    return False\n",
    "                return False\n",
    "        else:\n",
    "            return False\n",
    "    else:\n",
    "        return False"
   ]
  },
  {
   "cell_type": "code",
   "execution_count": null,
   "metadata": {},
   "outputs": [],
   "source": [
    "#Clean Code Concpet : early return pattern "
   ]
  },
  {
   "cell_type": "code",
   "execution_count": null,
   "metadata": {},
   "outputs": [],
   "source": [
    "#Clean Code Concpet : early return pattern + function abstraction"
   ]
  },
  {
   "cell_type": "code",
   "execution_count": null,
   "metadata": {},
   "outputs": [],
   "source": [
    "#early return pattern vs if-else ???"
   ]
  },
  {
   "cell_type": "markdown",
   "metadata": {
    "ExecuteTime": {
     "end_time": "2021-09-23T13:22:02.723894Z",
     "start_time": "2021-09-23T13:22:02.720863Z"
    }
   },
   "source": [
    "# example(coding test)\n",
    "http://oj.rightline.kr/contest"
   ]
  },
  {
   "cell_type": "code",
   "execution_count": null,
   "metadata": {},
   "outputs": [],
   "source": []
  }
 ],
 "metadata": {
  "colab": {
   "name": "Untitled0.ipynb",
   "provenance": []
  },
  "hide_input": false,
  "kernelspec": {
   "display_name": "Python 3 (ipykernel)",
   "language": "python",
   "name": "python3"
  },
  "language_info": {
   "codemirror_mode": {
    "name": "ipython",
    "version": 3
   },
   "file_extension": ".py",
   "mimetype": "text/x-python",
   "name": "python",
   "nbconvert_exporter": "python",
   "pygments_lexer": "ipython3",
   "version": "3.12.1"
  },
  "latex_envs": {
   "LaTeX_envs_menu_present": true,
   "autoclose": false,
   "autocomplete": true,
   "bibliofile": "biblio.bib",
   "cite_by": "apalike",
   "current_citInitial": 1,
   "eqLabelWithNumbers": true,
   "eqNumInitial": 1,
   "hotkeys": {
    "equation": "Ctrl-E",
    "itemize": "Ctrl-I"
   },
   "labels_anchors": false,
   "latex_user_defs": false,
   "report_style_numbering": false,
   "user_envs_cfg": false
  },
  "toc": {
   "base_numbering": 1,
   "nav_menu": {},
   "number_sections": true,
   "sideBar": true,
   "skip_h1_title": false,
   "title_cell": "Chapter4",
   "title_sidebar": "Contents",
   "toc_cell": true,
   "toc_position": {
    "height": "calc(100% - 180px)",
    "left": "10px",
    "top": "150px",
    "width": "258px"
   },
   "toc_section_display": true,
   "toc_window_display": true
  },
  "varInspector": {
   "cols": {
    "lenName": 16,
    "lenType": 16,
    "lenVar": 40
   },
   "kernels_config": {
    "python": {
     "delete_cmd_postfix": "",
     "delete_cmd_prefix": "del ",
     "library": "var_list.py",
     "varRefreshCmd": "print(var_dic_list())"
    },
    "r": {
     "delete_cmd_postfix": ") ",
     "delete_cmd_prefix": "rm(",
     "library": "var_list.r",
     "varRefreshCmd": "cat(var_dic_list()) "
    }
   },
   "types_to_exclude": [
    "module",
    "function",
    "builtin_function_or_method",
    "instance",
    "_Feature"
   ],
   "window_display": false
  }
 },
 "nbformat": 4,
 "nbformat_minor": 1
}
