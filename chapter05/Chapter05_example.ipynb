{
 "cells": [
  {
   "cell_type": "markdown",
   "metadata": {
    "toc": true
   },
   "source": [
    "<h1>Chapter5<span class=\"tocSkip\"></span></h1>\n",
    "<div class=\"toc\"><ul class=\"toc-item\"><li><span><a href=\"#반복문\" data-toc-modified-id=\"반복문-1\"><span class=\"toc-item-num\">1&nbsp;&nbsp;</span>반복문</a></span><ul class=\"toc-item\"><li><span><a href=\"#while\" data-toc-modified-id=\"while-1.1\"><span class=\"toc-item-num\">1.1&nbsp;&nbsp;</span>while</a></span><ul class=\"toc-item\"><li><span><a href=\"#dynamic-loop\" data-toc-modified-id=\"dynamic-loop-1.1.1\"><span class=\"toc-item-num\">1.1.1&nbsp;&nbsp;</span>dynamic loop</a></span></li><li><span><a href=\"#infinite-loop\" data-toc-modified-id=\"infinite-loop-1.1.2\"><span class=\"toc-item-num\">1.1.2&nbsp;&nbsp;</span>infinite loop</a></span></li></ul></li><li><span><a href=\"#for\" data-toc-modified-id=\"for-1.2\"><span class=\"toc-item-num\">1.2&nbsp;&nbsp;</span>for</a></span><ul class=\"toc-item\"><li><span><a href=\"#range\" data-toc-modified-id=\"range-1.2.1\"><span class=\"toc-item-num\">1.2.1&nbsp;&nbsp;</span>range</a></span></li><li><span><a href=\"#(예습)string\" data-toc-modified-id=\"(예습)string-1.2.2\"><span class=\"toc-item-num\">1.2.2&nbsp;&nbsp;</span>(예습)string</a></span></li><li><span><a href=\"#(예습)list\" data-toc-modified-id=\"(예습)list-1.2.3\"><span class=\"toc-item-num\">1.2.3&nbsp;&nbsp;</span>(예습)list</a></span></li><li><span><a href=\"#for-<->-while-<->-recursive-function\" data-toc-modified-id=\"for-<->-while-<->-recursive-function-1.2.4\"><span class=\"toc-item-num\">1.2.4&nbsp;&nbsp;</span>for &lt;-&gt; while &lt;-&gt; recursive function</a></span></li></ul></li><li><span><a href=\"#반복문-제어\" data-toc-modified-id=\"반복문-제어-1.3\"><span class=\"toc-item-num\">1.3&nbsp;&nbsp;</span>반복문 제어</a></span><ul class=\"toc-item\"><li><span><a href=\"#continue\" data-toc-modified-id=\"continue-1.3.1\"><span class=\"toc-item-num\">1.3.1&nbsp;&nbsp;</span>continue</a></span></li><li><span><a href=\"#break\" data-toc-modified-id=\"break-1.3.2\"><span class=\"toc-item-num\">1.3.2&nbsp;&nbsp;</span>break</a></span></li></ul></li></ul></li><li><span><a href=\"#반복문-고급\" data-toc-modified-id=\"반복문-고급-2\"><span class=\"toc-item-num\">2&nbsp;&nbsp;</span>반복문 고급</a></span><ul class=\"toc-item\"><li><span><a href=\"#중첩-for문\" data-toc-modified-id=\"중첩-for문-2.1\"><span class=\"toc-item-num\">2.1&nbsp;&nbsp;</span>중첩 for문</a></span></li></ul></li><li><span><a href=\"#example(coding-test)\" data-toc-modified-id=\"example(coding-test)-3\"><span class=\"toc-item-num\">3&nbsp;&nbsp;</span>example(coding test)</a></span></li></ul></div>"
   ]
  },
  {
   "cell_type": "markdown",
   "metadata": {},
   "source": [
    "# 반복문"
   ]
  },
  {
   "cell_type": "markdown",
   "metadata": {},
   "source": [
    "## while"
   ]
  },
  {
   "cell_type": "code",
   "execution_count": 1,
   "metadata": {
    "ExecuteTime": {
     "end_time": "2023-03-29T05:17:32.296796Z",
     "start_time": "2023-03-29T05:17:32.293949Z"
    }
   },
   "outputs": [],
   "source": [
    "# 1부터 10까지의 합산 계산하기"
   ]
  },
  {
   "cell_type": "markdown",
   "metadata": {},
   "source": [
    "### dynamic loop"
   ]
  },
  {
   "cell_type": "code",
   "execution_count": null,
   "metadata": {
    "ExecuteTime": {
     "end_time": "2023-03-29T06:40:04.886459Z",
     "start_time": "2023-03-29T06:40:04.873464Z"
    }
   },
   "outputs": [],
   "source": [
    "# c에서의 do while 처럼 해보기(무조건 1회적으로 반복 구문은 보장)\n",
    "# 파이썬에는 do-while 루프가 없지만, 유사한 효과를 내는 코딩을 할 수 있음\n",
    "'''\n",
    "i = 1\n",
    "do\n",
    "{\n",
    "print(i)\n",
    "}while(False)\n",
    "'''"
   ]
  },
  {
   "cell_type": "code",
   "execution_count": 2,
   "metadata": {
    "ExecuteTime": {
     "end_time": "2023-03-29T05:17:32.659209Z",
     "start_time": "2023-03-29T05:17:32.657382Z"
    }
   },
   "outputs": [],
   "source": [
    "# 시작 위치(숫자)에서 목적 위치(숫자)까지 반복하여 도달하기 "
   ]
  },
  {
   "cell_type": "markdown",
   "metadata": {},
   "source": [
    "### infinite loop"
   ]
  },
  {
   "cell_type": "code",
   "execution_count": 5,
   "metadata": {
    "ExecuteTime": {
     "end_time": "2023-03-29T05:17:33.329327Z",
     "start_time": "2023-03-29T05:17:33.327374Z"
    }
   },
   "outputs": [],
   "source": [
    "# 무한 반복 구현 : 시작 위치(숫자)에서 목적 위치(숫자)까지 반복하다가... "
   ]
  },
  {
   "cell_type": "code",
   "execution_count": 6,
   "metadata": {
    "ExecuteTime": {
     "end_time": "2023-03-29T05:17:33.511272Z",
     "start_time": "2023-03-29T05:17:33.509348Z"
    }
   },
   "outputs": [],
   "source": [
    "# 의도치 않은 무한 반복 막기(simple watch dog counter)\n",
    "# 무한 루프를 막기 위해 'watch dog counter'를 사용하는 예시 코드 작성해보기"
   ]
  },
  {
   "cell_type": "markdown",
   "metadata": {},
   "source": [
    "## for"
   ]
  },
  {
   "cell_type": "markdown",
   "metadata": {},
   "source": [
    "### range "
   ]
  },
  {
   "cell_type": "code",
   "execution_count": 14,
   "metadata": {
    "ExecuteTime": {
     "end_time": "2023-03-29T05:17:34.354873Z",
     "start_time": "2023-03-29T05:17:34.352814Z"
    }
   },
   "outputs": [
    {
     "data": {
      "text/plain": [
       "'*       *\\n**     **\\n***   ****       *\\n**     **\\n***   ***\\n'"
      ]
     },
     "execution_count": 14,
     "metadata": {},
     "output_type": "execute_result"
    }
   ],
   "source": [
    "def solution(n):\n",
    "    result = \"\"\n",
    "    result += \"*       *\\n\"\n",
    "    result += \"**     **\\n\"\n",
    "    result += \"***   ***\"\n",
    "    for i in range(1,n+1):\n",
    "        temp = \"*\"*i + (2*n+3-2*i)*\" \"+\"*\"*i \n",
    "        result +=(temp+ \"\\n\")\n",
    "    return result\n",
    "solution(3)"
   ]
  },
  {
   "cell_type": "code",
   "execution_count": 8,
   "metadata": {
    "ExecuteTime": {
     "end_time": "2023-03-29T05:17:34.533619Z",
     "start_time": "2023-03-29T05:17:34.531644Z"
    }
   },
   "outputs": [],
   "source": [
    "# 1부터 10까지의 합산 계산하기(range의 start, end 활용)"
   ]
  },
  {
   "cell_type": "code",
   "execution_count": 10,
   "metadata": {
    "ExecuteTime": {
     "end_time": "2023-03-29T05:17:34.893912Z",
     "start_time": "2023-03-29T05:17:34.891842Z"
    }
   },
   "outputs": [],
   "source": [
    "# range의 start는 열려있고 end는 닫혀있음"
   ]
  },
  {
   "cell_type": "code",
   "execution_count": 9,
   "metadata": {
    "ExecuteTime": {
     "end_time": "2023-03-29T05:17:34.711357Z",
     "start_time": "2023-03-29T05:17:34.709605Z"
    }
   },
   "outputs": [],
   "source": [
    "# 1부터 10까지 중, 일정 간격 수로 합산 계산하기(range의 start, end, step 활용)"
   ]
  },
  {
   "cell_type": "markdown",
   "metadata": {},
   "source": [
    "### (예습)string "
   ]
  },
  {
   "cell_type": "code",
   "execution_count": 11,
   "metadata": {
    "ExecuteTime": {
     "end_time": "2023-03-29T05:17:35.502304Z",
     "start_time": "2023-03-29T05:17:35.500207Z"
    }
   },
   "outputs": [],
   "source": [
    "# 문자열의 문자 순차적으로 출력하기 "
   ]
  },
  {
   "cell_type": "markdown",
   "metadata": {},
   "source": [
    "### (예습)list"
   ]
  },
  {
   "cell_type": "code",
   "execution_count": 12,
   "metadata": {
    "ExecuteTime": {
     "end_time": "2023-03-29T05:17:36.198511Z",
     "start_time": "2023-03-29T05:17:36.196500Z"
    }
   },
   "outputs": [],
   "source": [
    "# 1부터 10까지의 합산 계산하기 "
   ]
  },
  {
   "cell_type": "markdown",
   "metadata": {},
   "source": [
    "### for <-> while <-> recursive function"
   ]
  },
  {
   "cell_type": "code",
   "execution_count": 1,
   "metadata": {
    "ExecuteTime": {
     "end_time": "2023-03-29T05:17:36.580693Z",
     "start_time": "2023-03-29T05:17:36.578467Z"
    }
   },
   "outputs": [
    {
     "data": {
      "text/plain": [
       "'\\nf(1) = 1\\nf(2) = 2 + f(1)\\nf(3) = 3 + f(2)\\nf(9) = 9 + f(8)\\nf(10) = 10 + f(9)\\nf(n) = n + f(n-1)\\n'"
      ]
     },
     "execution_count": 1,
     "metadata": {},
     "output_type": "execute_result"
    }
   ],
   "source": [
    "#1부터 10까지의 합산 계산하기 \n",
    "\n",
    "'''\n",
    "f(1) = 1\n",
    "f(2) = 2 + f(1)\n",
    "f(3) = 3 + f(2)\n",
    "f(9) = 9 + f(8)\n",
    "f(10) = 10 + f(9)\n",
    "f(n) = n + f(n-1)\n",
    "'''"
   ]
  },
  {
   "cell_type": "markdown",
   "metadata": {},
   "source": [
    "## 반복문 제어"
   ]
  },
  {
   "cell_type": "markdown",
   "metadata": {},
   "source": [
    "### continue"
   ]
  },
  {
   "cell_type": "code",
   "execution_count": 14,
   "metadata": {
    "ExecuteTime": {
     "end_time": "2023-03-29T05:17:37.683439Z",
     "start_time": "2023-03-29T05:17:37.681522Z"
    }
   },
   "outputs": [],
   "source": [
    "# 1부터 10까지의 수 중, 짝/홀에 대해서 합산 계산(for ver)"
   ]
  },
  {
   "cell_type": "code",
   "execution_count": 14,
   "metadata": {
    "ExecuteTime": {
     "end_time": "2023-03-29T05:17:37.683439Z",
     "start_time": "2023-03-29T05:17:37.681522Z"
    }
   },
   "outputs": [],
   "source": [
    "# 1부터 10까지의 수 중, 짝/홀에 대해서 합산 계산(while ver)"
   ]
  },
  {
   "cell_type": "code",
   "execution_count": 7,
   "metadata": {},
   "outputs": [],
   "source": [
    "# (option)simple down sampling"
   ]
  },
  {
   "cell_type": "markdown",
   "metadata": {},
   "source": [
    "### break"
   ]
  },
  {
   "cell_type": "code",
   "execution_count": 15,
   "metadata": {
    "ExecuteTime": {
     "end_time": "2023-03-29T05:17:38.479976Z",
     "start_time": "2023-03-29T05:17:38.478262Z"
    }
   },
   "outputs": [],
   "source": [
    "# 1부터 10까지의 합산 계산하다가 30이상이면 멈추자(for ver)"
   ]
  },
  {
   "cell_type": "code",
   "execution_count": 15,
   "metadata": {
    "ExecuteTime": {
     "end_time": "2023-03-29T05:17:38.479976Z",
     "start_time": "2023-03-29T05:17:38.478262Z"
    }
   },
   "outputs": [],
   "source": [
    "# 1부터 10까지의 합산 계산하다가 30이상이면 멈추자(while ver)"
   ]
  },
  {
   "cell_type": "markdown",
   "metadata": {},
   "source": [
    "# 반복문 고급"
   ]
  },
  {
   "cell_type": "markdown",
   "metadata": {},
   "source": [
    "## 중첩 for문"
   ]
  },
  {
   "cell_type": "code",
   "execution_count": 16,
   "metadata": {
    "ExecuteTime": {
     "end_time": "2023-03-29T05:17:40.563355Z",
     "start_time": "2023-03-29T05:17:40.561385Z"
    },
    "scrolled": true
   },
   "outputs": [],
   "source": [
    "# 구구단의 총합 구하기 (+총 반복 회수는?)\n",
    "# 1) 2단부터 9단까지 반복\n",
    "# 2) 각단수별로 1배수부터 9배수까지 합친다\n",
    "# 3) 총 반복 회수 계산하는 방법 추가하기"
   ]
  },
  {
   "cell_type": "code",
   "execution_count": 4,
   "metadata": {},
   "outputs": [],
   "source": [
    "# (optional)simple image position calculator\n",
    "'''\n",
    "image_2d_array_index = \n",
    "0, 1, 2, 3\n",
    "4, 5, 6, 7\n",
    "\n",
    "iamge_1d_array_index = 0,1,2,3,4,5,6,7\n",
    "'''\n",
    "image_1d_array = [255, 255, 0, 0, 0, 0, 255, 255]\n",
    "width = 4\n",
    "height = 2"
   ]
  },
  {
   "cell_type": "code",
   "execution_count": 5,
   "metadata": {},
   "outputs": [
    {
     "data": {
      "text/plain": [
       "<matplotlib.colorbar.Colorbar at 0x1173604d0>"
      ]
     },
     "execution_count": 5,
     "metadata": {},
     "output_type": "execute_result"
    },
    {
     "data": {
      "image/png": "[encoded data removed]",
      "text/plain": [
       "<Figure size 640x480 with 2 Axes>"
      ]
     },
     "metadata": {},
     "output_type": "display_data"
    }
   ],
   "source": [
    "# (optional)simple image position calculator\n",
    "\n",
    "import matplotlib.pyplot as plt\n",
    "import numpy as np\n",
    "np_array = np.array(image_1d_array)\n",
    "np_array = np_array.reshape(height, width)\n",
    "plt.imshow(np_array)\n",
    "plt.colorbar()"
   ]
  },
  {
   "cell_type": "markdown",
   "metadata": {},
   "source": [
    "  "
   ]
  },
  {
   "cell_type": "markdown",
   "metadata": {
    "ExecuteTime": {
     "end_time": "2021-09-23T13:22:02.723894Z",
     "start_time": "2021-09-23T13:22:02.720863Z"
    }
   },
   "source": [
    "# example(coding test)\n",
    "http://oj.rightline.kr/contest"
   ]
  },
  {
   "cell_type": "code",
   "execution_count": null,
   "metadata": {},
   "outputs": [],
   "source": []
  }
 ],
 "metadata": {
  "colab": {
   "name": "Untitled0.ipynb",
   "provenance": []
  },
  "hide_input": false,
  "kernelspec": {
   "display_name": "Python 3 (ipykernel)",
   "language": "python",
   "name": "python3"
  },
  "language_info": {
   "codemirror_mode": {
    "name": "ipython",
    "version": 3
   },
   "file_extension": ".py",
   "mimetype": "text/x-python",
   "name": "python",
   "nbconvert_exporter": "python",
   "pygments_lexer": "ipython3",
   "version": "3.12.1"
  },
  "latex_envs": {
   "LaTeX_envs_menu_present": true,
   "autoclose": false,
   "autocomplete": true,
   "bibliofile": "biblio.bib",
   "cite_by": "apalike",
   "current_citInitial": 1,
   "eqLabelWithNumbers": true,
   "eqNumInitial": 1,
   "hotkeys": {
    "equation": "Ctrl-E",
    "itemize": "Ctrl-I"
   },
   "labels_anchors": false,
   "latex_user_defs": false,
   "report_style_numbering": false,
   "user_envs_cfg": false
  },
  "toc": {
   "base_numbering": 1,
   "nav_menu": {},
   "number_sections": true,
   "sideBar": true,
   "skip_h1_title": false,
   "title_cell": "Chapter5",
   "title_sidebar": "Contents",
   "toc_cell": true,
   "toc_position": {
    "height": "calc(100% - 180px)",
    "left": "10px",
    "top": "150px",
    "width": "258px"
   },
   "toc_section_display": true,
   "toc_window_display": true
  },
  "varInspector": {
   "cols": {
    "lenName": 16,
    "lenType": 16,
    "lenVar": 40
   },
   "kernels_config": {
    "python": {
     "delete_cmd_postfix": "",
     "delete_cmd_prefix": "del ",
     "library": "var_list.py",
     "varRefreshCmd": "print(var_dic_list())"
    },
    "r": {
     "delete_cmd_postfix": ") ",
     "delete_cmd_prefix": "rm(",
     "library": "var_list.r",
     "varRefreshCmd": "cat(var_dic_list()) "
    }
   },
   "types_to_exclude": [
    "module",
    "function",
    "builtin_function_or_method",
    "instance",
    "_Feature"
   ],
   "window_display": false
  }
 },
 "nbformat": 4,
 "nbformat_minor": 1
}
