{
 "cells": [
  {
   "cell_type": "markdown",
   "metadata": {
    "toc": true
   },
   "source": [
    "<h1>Chapter3<span class=\"tocSkip\"></span></h1>\n",
    "<div class=\"toc\"><ul class=\"toc-item\"><li><span><a href=\"#Function-Basics\" data-toc-modified-id=\"Function-Basics-1\"><span class=\"toc-item-num\">1&nbsp;&nbsp;</span>Function Basics</a></span><ul class=\"toc-item\"><li><span><a href=\"#usage-:-definition-&amp;-call\" data-toc-modified-id=\"usage-:-definition-&amp;-call-1.1\"><span class=\"toc-item-num\">1.1&nbsp;&nbsp;</span>usage : definition &amp; call</a></span><ul class=\"toc-item\"><li><span><a href=\"#definition(or-declaration)\" data-toc-modified-id=\"definition(or-declaration)-1.1.1\"><span class=\"toc-item-num\">1.1.1&nbsp;&nbsp;</span>definition(or declaration)</a></span></li><li><span><a href=\"#function-call\" data-toc-modified-id=\"function-call-1.1.2\"><span class=\"toc-item-num\">1.1.2&nbsp;&nbsp;</span>function call</a></span></li></ul></li><li><span><a href=\"#function-execution-order\" data-toc-modified-id=\"function-execution-order-1.2\"><span class=\"toc-item-num\">1.2&nbsp;&nbsp;</span>function execution order</a></span></li><li><span><a href=\"#math\" data-toc-modified-id=\"math-1.3\"><span class=\"toc-item-num\">1.3&nbsp;&nbsp;</span>math</a></span></li><li><span><a href=\"#function-form\" data-toc-modified-id=\"function-form-1.4\"><span class=\"toc-item-num\">1.4&nbsp;&nbsp;</span>function form</a></span></li></ul></li><li><span><a href=\"#Function-deepening\" data-toc-modified-id=\"Function-deepening-2\"><span class=\"toc-item-num\">2&nbsp;&nbsp;</span>Function deepening</a></span><ul class=\"toc-item\"><li><span><a href=\"#default-parameter\" data-toc-modified-id=\"default-parameter-2.1\"><span class=\"toc-item-num\">2.1&nbsp;&nbsp;</span>default parameter</a></span></li><li><span><a href=\"#keyword-arguments\" data-toc-modified-id=\"keyword-arguments-2.2\"><span class=\"toc-item-num\">2.2&nbsp;&nbsp;</span>keyword arguments</a></span></li><li><span><a href=\"#variable-scope\" data-toc-modified-id=\"variable-scope-2.3\"><span class=\"toc-item-num\">2.3&nbsp;&nbsp;</span>variable scope</a></span></li></ul></li><li><span><a href=\"#Beyond-Function\" data-toc-modified-id=\"Beyond-Function-3\"><span class=\"toc-item-num\">3&nbsp;&nbsp;</span>Beyond Function</a></span><ul class=\"toc-item\"><li><span><a href=\"#python-:-call-by-object-reference\" data-toc-modified-id=\"python-:-call-by-object-reference-3.1\"><span class=\"toc-item-num\">3.1&nbsp;&nbsp;</span>python : call by object reference</a></span></li><li><span><a href=\"#recursive-function\" data-toc-modified-id=\"recursive-function-3.2\"><span class=\"toc-item-num\">3.2&nbsp;&nbsp;</span>recursive function</a></span></li><li><span><a href=\"#variable-argument\" data-toc-modified-id=\"variable-argument-3.3\"><span class=\"toc-item-num\">3.3&nbsp;&nbsp;</span>variable argument</a></span></li></ul></li><li><span><a href=\"#좋은-코드를-작성하는-방법-:-PEP-8-(Python-Enhance-Proposal-8)\" data-toc-modified-id=\"좋은-코드를-작성하는-방법-:-PEP-8-(Python-Enhance-Proposal-8)-4\"><span class=\"toc-item-num\">4&nbsp;&nbsp;</span>좋은 코드를 작성하는 방법 : PEP 8 (Python Enhance Proposal 8)</a></span><ul class=\"toc-item\"><li><span><a href=\"#(복습)-variable\" data-toc-modified-id=\"(복습)-variable-4.1\"><span class=\"toc-item-num\">4.1&nbsp;&nbsp;</span>(복습) variable</a></span></li><li><span><a href=\"#function\" data-toc-modified-id=\"function-4.2\"><span class=\"toc-item-num\">4.2&nbsp;&nbsp;</span>function</a></span><ul class=\"toc-item\"><li><span><a href=\"#good-naming\" data-toc-modified-id=\"good-naming-4.2.1\"><span class=\"toc-item-num\">4.2.1&nbsp;&nbsp;</span>good naming</a></span></li><li><span><a href=\"#RRM:-재사용성(Reusability),-가독성(Readability),-그리고-모듈화(Modularity)\" data-toc-modified-id=\"RRM:-재사용성(Reusability),-가독성(Readability),-그리고-모듈화(Modularity)-4.2.2\"><span class=\"toc-item-num\">4.2.2&nbsp;&nbsp;</span>RRM: 재사용성(Reusability), 가독성(Readability), 그리고 모듈화(Modularity)</a></span><ul class=\"toc-item\"><li><span><a href=\"#재사용성(Reusability)\" data-toc-modified-id=\"재사용성(Reusability)-4.2.2.1\"><span class=\"toc-item-num\">4.2.2.1&nbsp;&nbsp;</span>재사용성(Reusability)</a></span></li><li><span><a href=\"#가독성(Readability)-&amp;-모듈화(Modularity)\" data-toc-modified-id=\"가독성(Readability)-&amp;-모듈화(Modularity)-4.2.2.2\"><span class=\"toc-item-num\">4.2.2.2&nbsp;&nbsp;</span>가독성(Readability) &amp; 모듈화(Modularity)</a></span></li></ul></li></ul></li></ul></li><li><span><a href=\"#example(coding-test)\" data-toc-modified-id=\"example(coding-test)-5\"><span class=\"toc-item-num\">5&nbsp;&nbsp;</span>example(coding test)</a></span></li></ul></div>"
   ]
  },
  {
   "cell_type": "markdown",
   "metadata": {},
   "source": [
    "# Function Basics"
   ]
  },
  {
   "cell_type": "markdown",
   "metadata": {},
   "source": [
    "## usage : definition & call"
   ]
  },
  {
   "cell_type": "markdown",
   "metadata": {},
   "source": [
    "### definition(or declaration)"
   ]
  },
  {
   "cell_type": "code",
   "execution_count": null,
   "metadata": {
    "ExecuteTime": {
     "end_time": "2021-10-18T12:33:08.945305Z",
     "start_time": "2021-10-18T12:33:08.935495Z"
    }
   },
   "outputs": [],
   "source": [
    "# 함수 선언 예시 : greet"
   ]
  },
  {
   "cell_type": "markdown",
   "metadata": {},
   "source": [
    "### function call"
   ]
  },
  {
   "cell_type": "code",
   "execution_count": null,
   "metadata": {
    "ExecuteTime": {
     "end_time": "2021-10-18T12:33:33.505441Z",
     "start_time": "2021-10-18T12:33:33.502610Z"
    }
   },
   "outputs": [],
   "source": [
    "# 함수 호출 예시\n",
    "## 좋은 아침이야, 안녕 철수!\n",
    "## 좋은 점심이야, 안녕 영희!\n",
    "## 좋은 저녁이야, 안녕 alice!\n",
    "## 좋은 늦저녁이야, 안녕 bob!\n",
    "## ...."
   ]
  },
  {
   "cell_type": "markdown",
   "metadata": {},
   "source": [
    "## function execution order"
   ]
  },
  {
   "cell_type": "code",
   "execution_count": null,
   "metadata": {
    "ExecuteTime": {
     "end_time": "2021-10-18T12:33:38.232622Z",
     "start_time": "2021-10-18T12:33:38.228445Z"
    }
   },
   "outputs": [],
   "source": [
    "# 함수의 실행 순서\n",
    "print(\"시작:\")\n",
    "def print_numbers():\n",
    "    print(1)\n",
    "    print(2)\n",
    "\n",
    "print(\"중간:\")\n",
    "print_numbers()\n",
    "print(\"끝\")"
   ]
  },
  {
   "cell_type": "code",
   "execution_count": null,
   "metadata": {},
   "outputs": [],
   "source": [
    "####################################\n",
    "def solution(x, y):\n",
    "    #Please fill this blank\n",
    "    return 1\n",
    "####################################\n",
    "\n",
    "####################################\n",
    "width = 10\n",
    "height = 20\n",
    "\n",
    "print(\"width:\", width)\n",
    "print(\"height:\", height)\n",
    "\n",
    "print(\"result=\", solution(width,height))\n",
    "\n",
    "result = solution(width,height)\n",
    "print(\"result=\", result)\n",
    "\n",
    "#Q.어떤 결과의 흐름(순서)로 출력이 될까요?##\n",
    "###################################"
   ]
  },
  {
   "cell_type": "markdown",
   "metadata": {
    "ExecuteTime": {
     "end_time": "2021-08-31T12:18:55.112085Z",
     "start_time": "2021-08-31T12:18:55.106953Z"
    }
   },
   "source": [
    "## math \n",
    "https://towardsdatascience.com/write-markdown-latex-in-the-jupyter-notebook-10985edb91fd"
   ]
  },
  {
   "cell_type": "markdown",
   "metadata": {},
   "source": [
    "$\n",
    "x = 2 조건에서.. f(x)=2x+7, g(x) = x^2 일때\\\\\\\\\n",
    "f(x) + g(x) + f(g(x)) + g(f(x))의 값은??\n",
    "$"
   ]
  },
  {
   "cell_type": "code",
   "execution_count": null,
   "metadata": {
    "ExecuteTime": {
     "end_time": "2021-10-18T12:33:52.349743Z",
     "start_time": "2021-10-18T12:33:52.346305Z"
    }
   },
   "outputs": [],
   "source": [
    "# 𝑥=2조건에서..𝑓(𝑥)=2𝑥+7,𝑔(𝑥)=𝑥^2일때 𝑓(𝑥)+𝑔(𝑥)+𝑓(𝑔(𝑥))+𝑔(𝑓(𝑥))의 값을 구하기 위해서 함수를 구현하여 풀어보자 "
   ]
  },
  {
   "cell_type": "markdown",
   "metadata": {},
   "source": [
    "## function form\n",
    "    -리턴구문 없는 경우, 암묵적으로 None값을 리턴한다\n",
    "    "
   ]
  },
  {
   "cell_type": "code",
   "execution_count": 1,
   "metadata": {
    "ExecuteTime": {
     "end_time": "2021-10-18T12:33:58.077609Z",
     "start_time": "2021-10-18T12:33:58.073757Z"
    }
   },
   "outputs": [],
   "source": [
    "# return 여부 (2) x parameter 여부(2) = 4\n",
    "## Q.가장 많이 사용되는 형태??"
   ]
  },
  {
   "cell_type": "markdown",
   "metadata": {},
   "source": [
    "# Function deepening"
   ]
  },
  {
   "cell_type": "markdown",
   "metadata": {},
   "source": [
    "## default parameter"
   ]
  },
  {
   "cell_type": "code",
   "execution_count": 1,
   "metadata": {},
   "outputs": [],
   "source": [
    "# print_greeting()\n",
    "## Hello, World !\n",
    "## Hello, Python !"
   ]
  },
  {
   "cell_type": "markdown",
   "metadata": {},
   "source": [
    "## keyword arguments"
   ]
  },
  {
   "cell_type": "code",
   "execution_count": null,
   "metadata": {},
   "outputs": [],
   "source": [
    "# print_greeting?"
   ]
  },
  {
   "cell_type": "code",
   "execution_count": 2,
   "metadata": {},
   "outputs": [],
   "source": [
    "# introduce_yourself(age=30, name=\"Alice\")  "
   ]
  },
  {
   "cell_type": "markdown",
   "metadata": {},
   "source": [
    "## variable scope"
   ]
  },
  {
   "cell_type": "code",
   "execution_count": 2,
   "metadata": {
    "ExecuteTime": {
     "end_time": "2021-10-18T12:34:39.458205Z",
     "start_time": "2021-10-18T12:34:39.449019Z"
    }
   },
   "outputs": [],
   "source": [
    "# global vs local"
   ]
  },
  {
   "cell_type": "code",
   "execution_count": 5,
   "metadata": {},
   "outputs": [],
   "source": [
    "# 암묵적(일반적) 우선 순위: local scope > global scope"
   ]
  },
  {
   "cell_type": "code",
   "execution_count": 6,
   "metadata": {},
   "outputs": [],
   "source": [
    "# 명시적 우선 순위: local scope << global scope"
   ]
  },
  {
   "cell_type": "markdown",
   "metadata": {},
   "source": [
    "# Beyond Function"
   ]
  },
  {
   "cell_type": "markdown",
   "metadata": {},
   "source": [
    "## python : call by object reference"
   ]
  },
  {
   "cell_type": "code",
   "execution_count": 3,
   "metadata": {
    "ExecuteTime": {
     "end_time": "2021-10-18T12:34:33.412847Z",
     "start_time": "2021-10-18T12:34:33.408850Z"
    }
   },
   "outputs": [],
   "source": [
    "## call by value\n",
    "## call by reference\n",
    "## call by object reference"
   ]
  },
  {
   "cell_type": "markdown",
   "metadata": {},
   "source": [
    "## recursive function\n",
    "    - factorial"
   ]
  },
  {
   "cell_type": "code",
   "execution_count": 5,
   "metadata": {
    "ExecuteTime": {
     "end_time": "2021-10-18T12:35:13.510501Z",
     "start_time": "2021-10-18T12:35:11.084451Z"
    }
   },
   "outputs": [],
   "source": [
    "# 𝑓(𝑥)=𝑥*𝑓(𝑥-1)\n",
    "## 재귀 호출: n! = n * (n-1)!\n",
    "## 5! = 5 * 4 * 3 * 2 * 1 = 120\n",
    "def factorial(x):\n",
    "    return x"
   ]
  },
  {
   "cell_type": "markdown",
   "metadata": {},
   "source": [
    "## variable argument"
   ]
  },
  {
   "cell_type": "code",
   "execution_count": null,
   "metadata": {},
   "outputs": [],
   "source": [
    "#print(\"a\",\"b\",\"c\", \"d\",\"e\",...\"...\")\n",
    "#custom_print(\"a\",\"b\",\"c\", \"d\",name=\"e\")\n",
    "#custom_print(\"a\",\"b\",\"c\", \"d\",name=\"e\", name='f') ..."
   ]
  },
  {
   "cell_type": "markdown",
   "metadata": {},
   "source": [
    "# 좋은 코드를 작성하는 방법 : PEP 8 (Python Enhance Proposal 8)\n",
    "https://www.python.org/dev/peps/pep-0008/"
   ]
  },
  {
   "cell_type": "markdown",
   "metadata": {},
   "source": [
    "abstraction https://chodragon9.github.io/blog/abstract/#%EC%9D%BC%EB%B0%98%ED%99%94"
   ]
  },
  {
   "cell_type": "markdown",
   "metadata": {},
   "source": [
    "## (복습) variable"
   ]
  },
  {
   "cell_type": "code",
   "execution_count": 10,
   "metadata": {
    "ExecuteTime": {
     "end_time": "2023-03-16T07:58:59.200070Z",
     "start_time": "2023-03-16T07:58:59.198030Z"
    }
   },
   "outputs": [],
   "source": [
    "variable_example  =    12 #bad\n",
    "variable_example = 12 #good"
   ]
  },
  {
   "cell_type": "code",
   "execution_count": 11,
   "metadata": {
    "ExecuteTime": {
     "end_time": "2023-03-16T07:58:59.371232Z",
     "start_time": "2023-03-16T07:58:59.368915Z"
    }
   },
   "outputs": [],
   "source": [
    "lIO0 = \"Hard to Upderstand\" #bad"
   ]
  },
  {
   "cell_type": "markdown",
   "metadata": {},
   "source": [
    "## function"
   ]
  },
  {
   "cell_type": "markdown",
   "metadata": {},
   "source": [
    "### good naming"
   ]
  },
  {
   "cell_type": "code",
   "execution_count": 12,
   "metadata": {
    "ExecuteTime": {
     "end_time": "2023-03-16T07:58:59.990671Z",
     "start_time": "2023-03-16T07:58:59.988698Z"
    }
   },
   "outputs": [],
   "source": [
    "#print, get, set, run, make, delete, remove, create, prepare,..."
   ]
  },
  {
   "cell_type": "code",
   "execution_count": null,
   "metadata": {
    "ExecuteTime": {
     "end_time": "2021-10-18T12:35:29.977940Z",
     "start_time": "2021-10-18T12:35:29.975214Z"
    }
   },
   "outputs": [],
   "source": []
  },
  {
   "cell_type": "markdown",
   "metadata": {},
   "source": [
    "### RRM: 재사용성(Reusability), 가독성(Readability), 그리고 모듈화(Modularity)"
   ]
  },
  {
   "cell_type": "markdown",
   "metadata": {},
   "source": [
    "#### 재사용성(Reusability)"
   ]
  },
  {
   "cell_type": "code",
   "execution_count": 1,
   "metadata": {
    "ExecuteTime": {
     "end_time": "2021-10-18T12:35:30.976836Z",
     "start_time": "2021-10-18T12:35:30.973131Z"
    }
   },
   "outputs": [
    {
     "name": "stdout",
     "output_type": "stream",
     "text": [
      "안녕, 좋은 이른 아침~ 크리스\n",
      "안녕, 좋은 아침~ 제시카\n",
      "안녕, 좋은 점심~ 엘리스\n",
      "안녕, 좋은 저녁~ 조나단\n",
      "안녕, 좋은 늦저녁~ 데이빗\n"
     ]
    }
   ],
   "source": [
    "#worst case\n",
    "message = '안녕, 좋은 이른 아침~ 크리스'\n",
    "print(message)\n",
    "\n",
    "message = '안녕, 좋은 아침~ 제시카'\n",
    "print(message)\n",
    "\n",
    "message = '안녕, 좋은 점심~ 엘리스'\n",
    "print(message)\n",
    "\n",
    "message = '안녕, 좋은 저녁~ 조나단'\n",
    "print(message)\n",
    "\n",
    "message = '안녕, 좋은 늦저녁~ 데이빗'\n",
    "print(message)"
   ]
  },
  {
   "cell_type": "markdown",
   "metadata": {},
   "source": [
    "#### 가독성(Readability) & 모듈화(Modularity)\n",
    "    * 추상화(abstraction)의 시작"
   ]
  },
  {
   "cell_type": "code",
   "execution_count": null,
   "metadata": {},
   "outputs": [],
   "source": [
    "#worst case\n",
    "result = ((-b + (b**2 - (4*a*c))**0.5) / (2*a))"
   ]
  },
  {
   "cell_type": "markdown",
   "metadata": {},
   "source": [
    "# example(coding test)\n",
    "http://oj.rightline.kr/contest"
   ]
  },
  {
   "cell_type": "code",
   "execution_count": null,
   "metadata": {},
   "outputs": [],
   "source": []
  }
 ],
 "metadata": {
  "colab": {
   "name": "Untitled0.ipynb",
   "provenance": []
  },
  "hide_input": false,
  "kernelspec": {
   "display_name": "Python 3 (ipykernel)",
   "language": "python",
   "name": "python3"
  },
  "language_info": {
   "codemirror_mode": {
    "name": "ipython",
    "version": 3
   },
   "file_extension": ".py",
   "mimetype": "text/x-python",
   "name": "python",
   "nbconvert_exporter": "python",
   "pygments_lexer": "ipython3",
   "version": "3.11.5"
  },
  "latex_envs": {
   "LaTeX_envs_menu_present": true,
   "autoclose": false,
   "autocomplete": true,
   "bibliofile": "biblio.bib",
   "cite_by": "apalike",
   "current_citInitial": 1,
   "eqLabelWithNumbers": true,
   "eqNumInitial": 1,
   "hotkeys": {
    "equation": "Ctrl-E",
    "itemize": "Ctrl-I"
   },
   "labels_anchors": false,
   "latex_user_defs": false,
   "report_style_numbering": false,
   "user_envs_cfg": false
  },
  "toc": {
   "base_numbering": 1,
   "nav_menu": {},
   "number_sections": true,
   "sideBar": true,
   "skip_h1_title": false,
   "title_cell": "Chapter3",
   "title_sidebar": "Contents",
   "toc_cell": true,
   "toc_position": {
    "height": "calc(100% - 180px)",
    "left": "10px",
    "top": "150px",
    "width": "215px"
   },
   "toc_section_display": true,
   "toc_window_display": true
  },
  "varInspector": {
   "cols": {
    "lenName": 16,
    "lenType": 16,
    "lenVar": 40
   },
   "kernels_config": {
    "python": {
     "delete_cmd_postfix": "",
     "delete_cmd_prefix": "del ",
     "library": "var_list.py",
     "varRefreshCmd": "print(var_dic_list())"
    },
    "r": {
     "delete_cmd_postfix": ") ",
     "delete_cmd_prefix": "rm(",
     "library": "var_list.r",
     "varRefreshCmd": "cat(var_dic_list()) "
    }
   },
   "types_to_exclude": [
    "module",
    "function",
    "builtin_function_or_method",
    "instance",
    "_Feature"
   ],
   "window_display": false
  }
 },
 "nbformat": 4,
 "nbformat_minor": 1
}
